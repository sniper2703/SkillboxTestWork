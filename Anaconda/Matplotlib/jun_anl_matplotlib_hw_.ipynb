{
 "cells": [
  {
   "cell_type": "markdown",
   "metadata": {
    "colab_type": "text",
    "id": "jwcdli7zqLmh"
   },
   "source": [
    "# Готовим данные для домашки"
   ]
  },
  {
   "cell_type": "code",
   "execution_count": 61,
   "metadata": {
    "colab": {},
    "colab_type": "code",
    "id": "F65Fq_zXqLmq",
    "outputId": "06655ee8-8f3a-478a-f322-8a228ba662a6"
   },
   "outputs": [
    {
     "data": {
      "text/html": [
       "<div>\n",
       "<style scoped>\n",
       "    .dataframe tbody tr th:only-of-type {\n",
       "        vertical-align: middle;\n",
       "    }\n",
       "\n",
       "    .dataframe tbody tr th {\n",
       "        vertical-align: top;\n",
       "    }\n",
       "\n",
       "    .dataframe thead th {\n",
       "        text-align: right;\n",
       "    }\n",
       "</style>\n",
       "<table border=\"1\" class=\"dataframe\">\n",
       "  <thead>\n",
       "    <tr style=\"text-align: right;\">\n",
       "      <th></th>\n",
       "      <th>Date</th>\n",
       "      <th>Time</th>\n",
       "      <th>CO(GT)</th>\n",
       "      <th>PT08.S1(CO)</th>\n",
       "      <th>NMHC(GT)</th>\n",
       "      <th>C6H6(GT)</th>\n",
       "      <th>PT08.S2(NMHC)</th>\n",
       "      <th>NOx(GT)</th>\n",
       "      <th>PT08.S3(NOx)</th>\n",
       "      <th>NO2(GT)</th>\n",
       "      <th>PT08.S4(NO2)</th>\n",
       "      <th>PT08.S5(O3)</th>\n",
       "      <th>T</th>\n",
       "      <th>RH</th>\n",
       "      <th>AH</th>\n",
       "      <th>ts</th>\n",
       "    </tr>\n",
       "  </thead>\n",
       "  <tbody>\n",
       "    <tr>\n",
       "      <td>9352</td>\n",
       "      <td>04/04/2005</td>\n",
       "      <td>10.00.00</td>\n",
       "      <td>3,1</td>\n",
       "      <td>1314</td>\n",
       "      <td>-200</td>\n",
       "      <td>13,5</td>\n",
       "      <td>1101</td>\n",
       "      <td>472</td>\n",
       "      <td>539</td>\n",
       "      <td>190</td>\n",
       "      <td>1374</td>\n",
       "      <td>1729</td>\n",
       "      <td>21,9</td>\n",
       "      <td>29,3</td>\n",
       "      <td>0,7568</td>\n",
       "      <td>2005-04-04 10:00:00</td>\n",
       "    </tr>\n",
       "    <tr>\n",
       "      <td>9353</td>\n",
       "      <td>04/04/2005</td>\n",
       "      <td>11.00.00</td>\n",
       "      <td>2,4</td>\n",
       "      <td>1163</td>\n",
       "      <td>-200</td>\n",
       "      <td>11,4</td>\n",
       "      <td>1027</td>\n",
       "      <td>353</td>\n",
       "      <td>604</td>\n",
       "      <td>179</td>\n",
       "      <td>1264</td>\n",
       "      <td>1269</td>\n",
       "      <td>24,3</td>\n",
       "      <td>23,7</td>\n",
       "      <td>0,7119</td>\n",
       "      <td>2005-04-04 11:00:00</td>\n",
       "    </tr>\n",
       "    <tr>\n",
       "      <td>9354</td>\n",
       "      <td>04/04/2005</td>\n",
       "      <td>12.00.00</td>\n",
       "      <td>2,4</td>\n",
       "      <td>1142</td>\n",
       "      <td>-200</td>\n",
       "      <td>12,4</td>\n",
       "      <td>1063</td>\n",
       "      <td>293</td>\n",
       "      <td>603</td>\n",
       "      <td>175</td>\n",
       "      <td>1241</td>\n",
       "      <td>1092</td>\n",
       "      <td>26,9</td>\n",
       "      <td>18,3</td>\n",
       "      <td>0,6406</td>\n",
       "      <td>2005-04-04 12:00:00</td>\n",
       "    </tr>\n",
       "    <tr>\n",
       "      <td>9355</td>\n",
       "      <td>04/04/2005</td>\n",
       "      <td>13.00.00</td>\n",
       "      <td>2,1</td>\n",
       "      <td>1003</td>\n",
       "      <td>-200</td>\n",
       "      <td>9,5</td>\n",
       "      <td>961</td>\n",
       "      <td>235</td>\n",
       "      <td>702</td>\n",
       "      <td>156</td>\n",
       "      <td>1041</td>\n",
       "      <td>770</td>\n",
       "      <td>28,3</td>\n",
       "      <td>13,5</td>\n",
       "      <td>0,5139</td>\n",
       "      <td>2005-04-04 13:00:00</td>\n",
       "    </tr>\n",
       "    <tr>\n",
       "      <td>9356</td>\n",
       "      <td>04/04/2005</td>\n",
       "      <td>14.00.00</td>\n",
       "      <td>2,2</td>\n",
       "      <td>1071</td>\n",
       "      <td>-200</td>\n",
       "      <td>11,9</td>\n",
       "      <td>1047</td>\n",
       "      <td>265</td>\n",
       "      <td>654</td>\n",
       "      <td>168</td>\n",
       "      <td>1129</td>\n",
       "      <td>816</td>\n",
       "      <td>28,5</td>\n",
       "      <td>13,1</td>\n",
       "      <td>0,5028</td>\n",
       "      <td>2005-04-04 14:00:00</td>\n",
       "    </tr>\n",
       "  </tbody>\n",
       "</table>\n",
       "</div>"
      ],
      "text/plain": [
       "            Date      Time CO(GT)  PT08.S1(CO)  NMHC(GT) C6H6(GT)  \\\n",
       "9352  04/04/2005  10.00.00    3,1         1314      -200     13,5   \n",
       "9353  04/04/2005  11.00.00    2,4         1163      -200     11,4   \n",
       "9354  04/04/2005  12.00.00    2,4         1142      -200     12,4   \n",
       "9355  04/04/2005  13.00.00    2,1         1003      -200      9,5   \n",
       "9356  04/04/2005  14.00.00    2,2         1071      -200     11,9   \n",
       "\n",
       "      PT08.S2(NMHC)  NOx(GT)  PT08.S3(NOx)  NO2(GT)  PT08.S4(NO2)  \\\n",
       "9352           1101      472           539      190          1374   \n",
       "9353           1027      353           604      179          1264   \n",
       "9354           1063      293           603      175          1241   \n",
       "9355            961      235           702      156          1041   \n",
       "9356           1047      265           654      168          1129   \n",
       "\n",
       "      PT08.S5(O3)     T    RH      AH                  ts  \n",
       "9352         1729  21,9  29,3  0,7568 2005-04-04 10:00:00  \n",
       "9353         1269  24,3  23,7  0,7119 2005-04-04 11:00:00  \n",
       "9354         1092  26,9  18,3  0,6406 2005-04-04 12:00:00  \n",
       "9355          770  28,3  13,5  0,5139 2005-04-04 13:00:00  \n",
       "9356          816  28,5  13,1  0,5028 2005-04-04 14:00:00  "
      ]
     },
     "execution_count": 61,
     "metadata": {},
     "output_type": "execute_result"
    }
   ],
   "source": [
    "import pandas as pd\n",
    "from datetime import datetime\n",
    "\n",
    "air_df = pd.read_csv('air_quality.csv', sep=';', encoding='utf8')\n",
    "air_df = air_df[air_df.iloc[:,0].notnull()]\n",
    "\n",
    "# формируем \n",
    "air_df['ts'] = (air_df.iloc[:,0]+ ' ' + air_df.iloc[:,1]).map(\n",
    "    lambda x: datetime.strptime(x.replace('.',':'), \"%d/%m/%Y %H:%M:%S\")\n",
    ")\n",
    "\n",
    "air_df.tail(5)"
   ]
  },
  {
   "cell_type": "markdown",
   "metadata": {
    "colab_type": "text",
    "id": "mW14E167qLm_"
   },
   "source": [
    "# Визуализация данных с помощью matplotlib \n",
    "\n",
    "## 1. Чтение текстовых файлов, файловые дескрипторы\n",
    "\n",
    "### 1.1\n",
    "\n",
    "**Простая задача** Выберите любой показатель загрязнённости воздуха (кроме NOx(GT), его мы использовали в туториале) и постройте график по 30 последним доступным наблюдениям.\n",
    "\n",
    "*Результат выполнения*\n",
    "\n",
    "Должен получиться такой же график, как для NOx(GT) (из второго урока данного модуля).\n",
    "![title](https://248006.selcdn.ru/public/Data-science-2/img/PearsonFig.jpg)"
   ]
  },
  {
   "cell_type": "code",
   "execution_count": 54,
   "metadata": {
    "colab": {},
    "colab_type": "code",
    "id": "oJsIbEB_qLnC"
   },
   "outputs": [
    {
     "data": {
      "image/png": "[encoded data removed]",
      "text/plain": [
       "<Figure size 432x288 with 1 Axes>"
      ]
     },
     "metadata": {
      "needs_background": "light"
     },
     "output_type": "display_data"
    }
   ],
   "source": [
    "import matplotlib.pyplot as plt\n",
    "import numpy as np\n",
    "from pandas.plotting import register_matplotlib_converters\n",
    "%matplotlib inline\n",
    "\n",
    "register_matplotlib_converters()\n",
    "TOP=-30\n",
    "\n",
    "\n",
    "# доступ к Figure и Subplot\n",
    "fig, subplot = plt.subplots()\n",
    "# формируем значения по оси  X\n",
    "x_ticks = air_df['ts'].values[TOP:]\n",
    "# формируем значения по оси Y\n",
    "y_ticks = air_df['CO(GT)'].values[TOP:]\n",
    "# график функции\n",
    "subplot.plot(x_ticks, y_ticks)\n",
    "# подписываем график\n",
    "subplot.set_title('CO(GT) concentrainon by date')\n",
    "# станавливаем название для оси  OX\n",
    "subplot.set_ylabel('CO(GT)')\n",
    "# подписи для оси Ох\n",
    "x_labels = [pd.to_datetime(str(i)).strftime(\"%m.%d %H:%M\") for i in air_df['ts'].values[TOP:]]\n",
    "# добавляем подписи к осям\n",
    "plt.xticks(x_ticks, rotation='vertical', labels=x_labels)\n",
    "# устанавливаем границы по оси oX\n",
    "x_min = air_df['ts'].values[0]\n",
    "x_max = air_df['ts'].values[TOP-1]\n",
    " \n",
    "plt.show()\n"
   ]
  },
  {
   "cell_type": "markdown",
   "metadata": {
    "colab_type": "text",
    "id": "JWwgMIGgqLnV"
   },
   "source": [
    "### 1.2\n",
    "\n",
    "**Задание среднего уровня** Постройте scatter plot между выбранным вами показателем и температурой (содержится в столбце `air_df['T]`)."
   ]
  },
  {
   "cell_type": "code",
   "execution_count": 65,
   "metadata": {
    "colab": {},
    "colab_type": "code",
    "id": "5Ql7HxopqLna"
   },
   "outputs": [
    {
     "data": {
      "text/plain": [
       "([<matplotlib.axis.XTick at 0x1a0d2358388>,\n",
       "  <matplotlib.axis.XTick at 0x1a0d23559c8>,\n",
       "  <matplotlib.axis.XTick at 0x1a0d2374f48>,\n",
       "  <matplotlib.axis.XTick at 0x1a0d232c108>,\n",
       "  <matplotlib.axis.XTick at 0x1a0d232cac8>,\n",
       "  <matplotlib.axis.XTick at 0x1a0d233f388>,\n",
       "  <matplotlib.axis.XTick at 0x1a0d233fc88>,\n",
       "  <matplotlib.axis.XTick at 0x1a0d2345588>,\n",
       "  <matplotlib.axis.XTick at 0x1a0d23140c8>,\n",
       "  <matplotlib.axis.XTick at 0x1a0d233f9c8>,\n",
       "  <matplotlib.axis.XTick at 0x1a0d232cb48>,\n",
       "  <matplotlib.axis.XTick at 0x1a0d2314d88>,\n",
       "  <matplotlib.axis.XTick at 0x1a0d231d408>,\n",
       "  <matplotlib.axis.XTick at 0x1a0d23260c8>,\n",
       "  <matplotlib.axis.XTick at 0x1a0d2326908>,\n",
       "  <matplotlib.axis.XTick at 0x1a0d232d408>,\n",
       "  <matplotlib.axis.XTick at 0x1a0d232b108>,\n",
       "  <matplotlib.axis.XTick at 0x1a0d232b5c8>,\n",
       "  <matplotlib.axis.XTick at 0x1a0d2337688>,\n",
       "  <matplotlib.axis.XTick at 0x1a0d2337988>,\n",
       "  <matplotlib.axis.XTick at 0x1a0d231de88>,\n",
       "  <matplotlib.axis.XTick at 0x1a0d2346608>,\n",
       "  <matplotlib.axis.XTick at 0x1a0d2346e08>,\n",
       "  <matplotlib.axis.XTick at 0x1a0d2348788>,\n",
       "  <matplotlib.axis.XTick at 0x1a0d2213488>,\n",
       "  <matplotlib.axis.XTick at 0x1a0d2213ac8>,\n",
       "  <matplotlib.axis.XTick at 0x1a0d2230c88>,\n",
       "  <matplotlib.axis.XTick at 0x1a0d2240288>,\n",
       "  <matplotlib.axis.XTick at 0x1a0d2240d48>,\n",
       "  <matplotlib.axis.XTick at 0x1a0d22301c8>],\n",
       " <a list of 30 Text xticklabel objects>)"
      ]
     },
     "execution_count": 65,
     "metadata": {},
     "output_type": "execute_result"
    },
    {
     "data": {
      "image/png": "[encoded data removed]",
      "text/plain": [
       "<Figure size 432x288 with 1 Axes>"
      ]
     },
     "metadata": {
      "needs_background": "light"
     },
     "output_type": "display_data"
    }
   ],
   "source": [
    "%matplotlib inline\n",
    "\n",
    "register_matplotlib_converters()\n",
    "TOP=-30\n",
    "fig, subplot = plt.subplots()\n",
    "x_values = air_df['T'].values[TOP:]\n",
    "y_values = air_df['CO(GT)'].values[TOP:]\n",
    "subplot.scatter(\n",
    "    x=x_values, y=y_values, \n",
    "    marker='o', c='r', edgecolor='b'\n",
    ")\n",
    "plt.xticks(x_ticks1, rotation='vertical')"
   ]
  },
  {
   "cell_type": "markdown",
   "metadata": {
    "colab_type": "text",
    "id": "ElGWHq82qLnm"
   },
   "source": [
    "### 1.3\n",
    "\n",
    "**Задание высокого уровня** Аналогично тому, как мы строили два графика рядом, отобразите на одном полотне следующие 4 графика:\n",
    "<pre>\n",
    "['PT08.S1(CO)', 'NMHC(GT)', 'C6H6(GT)', 'PT08.S2(NMHC)'].\n",
    "</pre>\n",
    "По каждому показателю учитывайте только последние 30 наблюдений. Значения оси X используйте из столбца T.\n",
    "\n",
    "*Ожидаемый результат*\n",
    "\n",
    "![title](https://248006.selcdn.ru/public/Data-science-2/img/four_pack.png)"
   ]
  },
  {
   "cell_type": "code",
   "execution_count": 72,
   "metadata": {
    "colab": {},
    "colab_type": "code",
    "id": "sXwg9R4oqLnp"
   },
   "outputs": [
    {
     "data": {
      "text/plain": [
       "[<matplotlib.lines.Line2D at 0x1a0d37f50c8>]"
      ]
     },
     "execution_count": 72,
     "metadata": {},
     "output_type": "execute_result"
    },
    {
     "data": {
      "image/png": "[encoded data removed]",
      "text/plain": [
       "<Figure size 432x288 with 4 Axes>"
      ]
     },
     "metadata": {
      "needs_background": "light"
     },
     "output_type": "display_data"
    }
   ],
   "source": [
    "%matplotlib inline\n",
    "\n",
    "register_matplotlib_converters()\n",
    "TOP=-30\n",
    "\n",
    "\n",
    "fig = plt.figure()\n",
    "subplot1 = fig.add_subplot(221)\n",
    "x1 = air_df['T'].values[TOP:]\n",
    "y1 = air_df['PT08.S1(CO)'].values[TOP:]\n",
    "subplot1.plot(x1, y1)\n",
    "\n",
    "subplot2 = fig.add_subplot(222)\n",
    "x2 = air_df['T'].values[TOP:]\n",
    "y2 = air_df['NMHC(GT)'].values[TOP:]\n",
    "subplot2.plot(x2, y2)\n",
    "\n",
    "subplot3 = fig.add_subplot(223)\n",
    "x3 = air_df['T'].values[TOP:]\n",
    "y3 = air_df['C6H6(GT)'].values[TOP:]\n",
    "subplot3.plot(x3, y3)\n",
    "\n",
    "subplot4 = fig.add_subplot(224)\n",
    "x4 = air_df['T'].values[TOP:]\n",
    "y4 = air_df['PT08.S2(NMHC)'].values[TOP:]\n",
    "subplot4.plot(x4, y4)"
   ]
  }
 ],
 "metadata": {
  "colab": {
   "collapsed_sections": [],
   "name": "jun_anl_matplotlib.ipynb",
   "provenance": []
  },
  "kernelspec": {
   "display_name": "Python 3",
   "language": "python",
   "name": "python3"
  },
  "language_info": {
   "codemirror_mode": {
    "name": "ipython",
    "version": 3
   },
   "file_extension": ".py",
   "mimetype": "text/x-python",
   "name": "python",
   "nbconvert_exporter": "python",
   "pygments_lexer": "ipython3",
   "version": "3.7.4"
  }
 },
 "nbformat": 4,
 "nbformat_minor": 1
}
