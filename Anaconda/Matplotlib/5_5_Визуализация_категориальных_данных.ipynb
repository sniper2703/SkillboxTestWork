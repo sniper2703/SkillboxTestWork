{
 "cells": [
  {
   "cell_type": "markdown",
   "metadata": {
    "id": "iROKcBEpP0Q6"
   },
   "source": [
    "# Основы визуализации данных с помощью matplotlib\n",
    "\n",
    "### Урок 5. Визуализация категориальных данных\n",
    "\n",
    "В этом уроке мы узнаем несколько новых видов графиков для визуализации категориальных данных."
   ]
  },
  {
   "cell_type": "code",
   "execution_count": null,
   "metadata": {
    "id": "YYVWkAe6Dkb8"
   },
   "outputs": [],
   "source": [
    "import pandas as pd\n",
    "import numpy as np\n",
    "import matplotlib.pyplot as plt"
   ]
  },
  {
   "cell_type": "markdown",
   "metadata": {
    "id": "IDmjuRoSDkb-"
   },
   "source": [
    "### Разбор практического задания"
   ]
  },
  {
   "cell_type": "code",
   "execution_count": null,
   "metadata": {
    "colab": {
     "base_uri": "https://localhost:8080/",
     "height": 419
    },
    "id": "suK_rENTDkb-",
    "outputId": "9fd4a6c8-b31e-45f1-f595-f4be6edea2b1"
   },
   "outputs": [
    {
     "data": {
      "text/html": [
       "<div>\n",
       "<style scoped>\n",
       "    .dataframe tbody tr th:only-of-type {\n",
       "        vertical-align: middle;\n",
       "    }\n",
       "\n",
       "    .dataframe tbody tr th {\n",
       "        vertical-align: top;\n",
       "    }\n",
       "\n",
       "    .dataframe thead th {\n",
       "        text-align: right;\n",
       "    }\n",
       "</style>\n",
       "<table border=\"1\" class=\"dataframe\">\n",
       "  <thead>\n",
       "    <tr style=\"text-align: right;\">\n",
       "      <th></th>\n",
       "      <th>Year</th>\n",
       "      <th>State</th>\n",
       "      <th>Salary</th>\n",
       "      <th>IsCoastal</th>\n",
       "    </tr>\n",
       "  </thead>\n",
       "  <tbody>\n",
       "    <tr>\n",
       "      <th>0</th>\n",
       "      <td>1968</td>\n",
       "      <td>Alabama</td>\n",
       "      <td>0.00000</td>\n",
       "      <td>0</td>\n",
       "    </tr>\n",
       "    <tr>\n",
       "      <th>1</th>\n",
       "      <td>1968</td>\n",
       "      <td>Alaska</td>\n",
       "      <td>2.10000</td>\n",
       "      <td>1</td>\n",
       "    </tr>\n",
       "    <tr>\n",
       "      <th>2</th>\n",
       "      <td>1968</td>\n",
       "      <td>Arizona</td>\n",
       "      <td>0.66000</td>\n",
       "      <td>0</td>\n",
       "    </tr>\n",
       "    <tr>\n",
       "      <th>3</th>\n",
       "      <td>1968</td>\n",
       "      <td>Arkansas</td>\n",
       "      <td>0.15625</td>\n",
       "      <td>0</td>\n",
       "    </tr>\n",
       "    <tr>\n",
       "      <th>4</th>\n",
       "      <td>1968</td>\n",
       "      <td>California</td>\n",
       "      <td>1.65000</td>\n",
       "      <td>1</td>\n",
       "    </tr>\n",
       "    <tr>\n",
       "      <th>...</th>\n",
       "      <td>...</td>\n",
       "      <td>...</td>\n",
       "      <td>...</td>\n",
       "      <td>...</td>\n",
       "    </tr>\n",
       "    <tr>\n",
       "      <th>2745</th>\n",
       "      <td>2017</td>\n",
       "      <td>Virginia</td>\n",
       "      <td>7.25000</td>\n",
       "      <td>1</td>\n",
       "    </tr>\n",
       "    <tr>\n",
       "      <th>2746</th>\n",
       "      <td>2017</td>\n",
       "      <td>Washington</td>\n",
       "      <td>11.00000</td>\n",
       "      <td>1</td>\n",
       "    </tr>\n",
       "    <tr>\n",
       "      <th>2747</th>\n",
       "      <td>2017</td>\n",
       "      <td>West Virginia</td>\n",
       "      <td>8.75000</td>\n",
       "      <td>0</td>\n",
       "    </tr>\n",
       "    <tr>\n",
       "      <th>2748</th>\n",
       "      <td>2017</td>\n",
       "      <td>Wisconsin</td>\n",
       "      <td>7.25000</td>\n",
       "      <td>0</td>\n",
       "    </tr>\n",
       "    <tr>\n",
       "      <th>2749</th>\n",
       "      <td>2017</td>\n",
       "      <td>Wyoming</td>\n",
       "      <td>5.15000</td>\n",
       "      <td>0</td>\n",
       "    </tr>\n",
       "  </tbody>\n",
       "</table>\n",
       "<p>2750 rows × 4 columns</p>\n",
       "</div>"
      ],
      "text/plain": [
       "      Year          State    Salary  IsCoastal\n",
       "0     1968        Alabama   0.00000          0\n",
       "1     1968         Alaska   2.10000          1\n",
       "2     1968        Arizona   0.66000          0\n",
       "3     1968       Arkansas   0.15625          0\n",
       "4     1968     California   1.65000          1\n",
       "...    ...            ...       ...        ...\n",
       "2745  2017       Virginia   7.25000          1\n",
       "2746  2017     Washington  11.00000          1\n",
       "2747  2017  West Virginia   8.75000          0\n",
       "2748  2017      Wisconsin   7.25000          0\n",
       "2749  2017        Wyoming   5.15000          0\n",
       "\n",
       "[2750 rows x 4 columns]"
      ]
     },
     "execution_count": 2,
     "metadata": {},
     "output_type": "execute_result"
    }
   ],
   "source": [
    "df = pd.read_csv('wage-data-coast.csv')\n",
    "df"
   ]
  },
  {
   "cell_type": "code",
   "execution_count": null,
   "metadata": {
    "colab": {
     "base_uri": "https://localhost:8080/",
     "height": 499
    },
    "id": "sn2BhAvQDkb_",
    "outputId": "99396ff0-eb0e-43c9-fef5-ab536aa53895",
    "scrolled": false
   },
   "outputs": [
    {
     "data": {
      "text/plain": [
       "([<matplotlib.axis.XTick at 0x7fd790c9e310>,\n",
       "  <matplotlib.axis.XTick at 0x7fd78a104450>,\n",
       "  <matplotlib.axis.XTick at 0x7fd78a101f10>,\n",
       "  <matplotlib.axis.XTick at 0x7fd78a0c44d0>,\n",
       "  <matplotlib.axis.XTick at 0x7fd78a07e650>,\n",
       "  <matplotlib.axis.XTick at 0x7fd78a07eb90>,\n",
       "  <matplotlib.axis.XTick at 0x7fd78a085090>,\n",
       "  <matplotlib.axis.XTick at 0x7fd78a085690>,\n",
       "  <matplotlib.axis.XTick at 0x7fd78a085bd0>,\n",
       "  <matplotlib.axis.XTick at 0x7fd78a08d090>,\n",
       "  <matplotlib.axis.XTick at 0x7fd78a08d650>],\n",
       " <a list of 11 Text major ticklabel objects>)"
      ]
     },
     "execution_count": 3,
     "metadata": {},
     "output_type": "execute_result"
    },
    {
     "data": {
      "image/png": "[encoded data removed]",
      "text/plain": [
       "<Figure size 432x288 with 1 Axes>"
      ]
     },
     "metadata": {
      "needs_background": "light"
     },
     "output_type": "display_data"
    }
   ],
   "source": [
    "serie = df[(df['Year'] == 2000) & (df['IsCoastal'] == 1)]['Salary']\n",
    "\n",
    "plt.hist(serie)\n",
    "plt.title(\"Минимальная зарплата в прибрежных штатах в 2000 году\")\n",
    "plt.xlabel('$/час')\n",
    "plt.ylabel('# штатов')\n",
    "\n",
    "bin_width = serie.max() / 10\n",
    "x_range = [i*bin_width for i in range(11)]\n",
    "\n",
    "plt.xticks(x_range)"
   ]
  },
  {
   "cell_type": "markdown",
   "metadata": {
    "id": "jaW53KQUDkb_"
   },
   "source": [
    "#### **Столбчатая диаграмма**\n",
    "\n",
    "Для визуализации категориальных данных часто используют такой тип графика, как столбчатая диаграмма, или **barchart**.\n",
    "\n",
    "Для построения такой диаграммы в `matplotlib` есть функция `plt.bar`, в которую, так же, как и в функцию `plt.scatter`, нужно передать 2 массива данных:\n",
    "* Во-первых, массив категорий, которые будут отображаться по оси Х\n",
    "* И во-вторых, значение для каждой категории, которые будут отображать высоту каждого столбика.\n"
   ]
  },
  {
   "cell_type": "markdown",
   "metadata": {
    "id": "gDySWOeYJsaI"
   },
   "source": [
    "Построим график сравнивнения средних значений минимальных зарплат в прибрежных и неприбрежных штатах в 2015 году. Подготовим данные. Нам нужно сначала выбрать данные только за 2015 год, потом сгруппировать их по признаку **IsCoastal**, затем посчитать среднюю зарплату для каждой группы. "
   ]
  },
  {
   "cell_type": "code",
   "execution_count": null,
   "metadata": {
    "colab": {
     "base_uri": "https://localhost:8080/"
    },
    "id": "r6hFL6imKC4y",
    "outputId": "edb6be4b-9df8-4f7d-8d64-dd1fcd38f9f8"
   },
   "outputs": [
    {
     "data": {
      "text/plain": [
       "IsCoastal\n",
       "0    6.882778\n",
       "1    7.760526\n",
       "Name: Salary, dtype: float64"
      ]
     },
     "execution_count": 4,
     "metadata": {},
     "output_type": "execute_result"
    }
   ],
   "source": [
    "df_1 = df[(df['Year']==2015)].groupby('IsCoastal')['Salary'].mean()\n",
    "df_1"
   ]
  },
  {
   "cell_type": "markdown",
   "metadata": {
    "id": "oZlkfDQOJvEv"
   },
   "source": [
    "Готово, мы получили серию, с которой можно работать, но давайте еще немного обработаем данные. Во-первых, отсортируем серию по убыванию, чтобы самый высокий столбец был первым, и затем выполним метод `reset_index`, чтобы получить датафрейм из серии."
   ]
  },
  {
   "cell_type": "code",
   "execution_count": null,
   "metadata": {
    "colab": {
     "base_uri": "https://localhost:8080/",
     "height": 111
    },
    "id": "5Wmg1WtrDkcA",
    "outputId": "0ce7262d-45a9-4e12-af82-36020b698e44"
   },
   "outputs": [
    {
     "data": {
      "text/html": [
       "<div>\n",
       "<style scoped>\n",
       "    .dataframe tbody tr th:only-of-type {\n",
       "        vertical-align: middle;\n",
       "    }\n",
       "\n",
       "    .dataframe tbody tr th {\n",
       "        vertical-align: top;\n",
       "    }\n",
       "\n",
       "    .dataframe thead th {\n",
       "        text-align: right;\n",
       "    }\n",
       "</style>\n",
       "<table border=\"1\" class=\"dataframe\">\n",
       "  <thead>\n",
       "    <tr style=\"text-align: right;\">\n",
       "      <th></th>\n",
       "      <th>IsCoastal</th>\n",
       "      <th>Salary</th>\n",
       "    </tr>\n",
       "  </thead>\n",
       "  <tbody>\n",
       "    <tr>\n",
       "      <th>0</th>\n",
       "      <td>1</td>\n",
       "      <td>7.760526</td>\n",
       "    </tr>\n",
       "    <tr>\n",
       "      <th>1</th>\n",
       "      <td>0</td>\n",
       "      <td>6.882778</td>\n",
       "    </tr>\n",
       "  </tbody>\n",
       "</table>\n",
       "</div>"
      ],
      "text/plain": [
       "   IsCoastal    Salary\n",
       "0          1  7.760526\n",
       "1          0  6.882778"
      ]
     },
     "execution_count": 5,
     "metadata": {},
     "output_type": "execute_result"
    }
   ],
   "source": [
    "df1 = df[(df['Year'] == 2015)].groupby('IsCoastal')['Salary'].mean().sort_values(ascending=False).reset_index()\n",
    "df1"
   ]
  },
  {
   "cell_type": "markdown",
   "metadata": {
    "id": "1f-IE9McJxxl"
   },
   "source": [
    "Еще для красоты давайте заменим 0 и 1 в категории на более говорящие наименования, например **“Not Coastal”** и **“Coastal”**. Для этого создадим новый признак с помощью функции np.where, в которую сначала передадим условие, затем 2 варианта, которые это функция должна вернуть для строк, в которых условие выполняется, и в которых не выполняется."
   ]
  },
  {
   "cell_type": "code",
   "execution_count": null,
   "metadata": {
    "colab": {
     "base_uri": "https://localhost:8080/",
     "height": 111
    },
    "id": "oDV5pYHTDkcA",
    "outputId": "a01d40e0-dd49-4f86-a758-a4a04007ca29"
   },
   "outputs": [
    {
     "data": {
      "text/html": [
       "<div>\n",
       "<style scoped>\n",
       "    .dataframe tbody tr th:only-of-type {\n",
       "        vertical-align: middle;\n",
       "    }\n",
       "\n",
       "    .dataframe tbody tr th {\n",
       "        vertical-align: top;\n",
       "    }\n",
       "\n",
       "    .dataframe thead th {\n",
       "        text-align: right;\n",
       "    }\n",
       "</style>\n",
       "<table border=\"1\" class=\"dataframe\">\n",
       "  <thead>\n",
       "    <tr style=\"text-align: right;\">\n",
       "      <th></th>\n",
       "      <th>IsCoastal</th>\n",
       "      <th>Salary</th>\n",
       "      <th>IsCoastalStr</th>\n",
       "    </tr>\n",
       "  </thead>\n",
       "  <tbody>\n",
       "    <tr>\n",
       "      <th>0</th>\n",
       "      <td>1</td>\n",
       "      <td>7.760526</td>\n",
       "      <td>Coastal</td>\n",
       "    </tr>\n",
       "    <tr>\n",
       "      <th>1</th>\n",
       "      <td>0</td>\n",
       "      <td>6.882778</td>\n",
       "      <td>Not Coastal</td>\n",
       "    </tr>\n",
       "  </tbody>\n",
       "</table>\n",
       "</div>"
      ],
      "text/plain": [
       "   IsCoastal    Salary IsCoastalStr\n",
       "0          1  7.760526      Coastal\n",
       "1          0  6.882778  Not Coastal"
      ]
     },
     "execution_count": 6,
     "metadata": {},
     "output_type": "execute_result"
    }
   ],
   "source": [
    "df1['IsCoastalStr'] = np.where(df1['IsCoastal'] == 1, 'Coastal', 'Not Coastal')\n",
    "df1"
   ]
  },
  {
   "cell_type": "markdown",
   "metadata": {
    "id": "Ndhzju1NKOpq"
   },
   "source": [
    "Теперь все готово, можем построить барчарт. Для этого вызовем функцию `plt.bar`, в качестве первого параметра передадим категории, т.е. признак **IsCoastalStr**, в качестве второго параметра – высоты столбцов, т.е. признак Salary. Добавим заголовок и подписи осей. "
   ]
  },
  {
   "cell_type": "code",
   "execution_count": null,
   "metadata": {
    "colab": {
     "base_uri": "https://localhost:8080/",
     "height": 312
    },
    "id": "cnmWqhIdDkcA",
    "outputId": "41072110-9b70-4f89-a94f-5730e0b7fe0d"
   },
   "outputs": [
    {
     "data": {
      "text/plain": [
       "Text(0.5, 0, 'Тип штата')"
      ]
     },
     "execution_count": 7,
     "metadata": {},
     "output_type": "execute_result"
    },
    {
     "data": {
      "image/png": "[encoded data removed]",
      "text/plain": [
       "<Figure size 432x288 with 1 Axes>"
      ]
     },
     "metadata": {
      "needs_background": "light"
     },
     "output_type": "display_data"
    }
   ],
   "source": [
    "plt.bar(df1['IsCoastalStr'], df1['Salary'])\n",
    "plt.title(\"Среднее значение минимальной зарплаты в прибрежных и неприбрежных штатах в 2015 году\")\n",
    "plt.ylabel('$/час')\n",
    "plt.xlabel('Тип штата')"
   ]
  },
  {
   "cell_type": "markdown",
   "metadata": {
    "id": "SBZ29wg0KSiE"
   },
   "source": [
    "Еще одно важное отличие гистограммы от барчарта в том, что в гистограмме в качестве независимой переменной (т.е. по оси Х) всегда выступает численная переменная, целочисленная или с плавающей точкой, тогда как в столбчатой диаграмме это категориальный признак. Давайте попробуем построить столбчатую диаграмму, в которой по оси Х будут непрерывные данные, и увидим, почему это не самая лучшая мысль.\n",
    "\n",
    "Например, выберем данные за 2017 год, сгруппируем по зарплате и посчитаем, в скольки штатах та или иная зарплата встречается в 2017 году. Преобразуем серию в датафрейм и отсортируем по возрастанию зарплаты, чтобы график был похож на гистограмму. Теперь построим барчарт. По оси Х будет идти зарплата, по оси Y – количество штатов.\n"
   ]
  },
  {
   "cell_type": "code",
   "execution_count": null,
   "metadata": {
    "colab": {
     "base_uri": "https://localhost:8080/",
     "height": 312
    },
    "id": "a5kmEWDsDkcB",
    "outputId": "7964b447-33b4-40bc-c75e-f940515d1f24"
   },
   "outputs": [
    {
     "data": {
      "text/plain": [
       "Text(0, 0.5, '# штатов')"
      ]
     },
     "execution_count": 8,
     "metadata": {},
     "output_type": "execute_result"
    },
    {
     "data": {
      "image/png": "[encoded data removed]",
      "text/plain": [
       "<Figure size 432x288 with 1 Axes>"
      ]
     },
     "metadata": {
      "needs_background": "light"
     },
     "output_type": "display_data"
    }
   ],
   "source": [
    "df2 = df[df['Year'] == 2017].groupby('Salary')['State'].count().reset_index().sort_values('Salary')\n",
    "plt.bar(df2['Salary'], df2['State'])\n",
    "plt.title(\"Распределение зарплаты по штатам в 2017 году\")\n",
    "plt.xlabel('$/час')\n",
    "plt.ylabel('# штатов')"
   ]
  },
  {
   "cell_type": "markdown",
   "metadata": {
    "id": "S7TJS3RyK7TQ"
   },
   "source": [
    "На первый взгляд кажется, что получили почти гистограмму, но если присмотримся, то увидим, что и ширина столбцов различается, и их число заметно увеличилось, и это при том, что у нас не так много данных. Сравним с соответствующей гистограммой за этот же период:\n"
   ]
  },
  {
   "cell_type": "code",
   "execution_count": null,
   "metadata": {
    "colab": {
     "base_uri": "https://localhost:8080/",
     "height": 499
    },
    "id": "ZgSJedjSDkcB",
    "outputId": "90b0f831-f4d7-4e9c-e2f5-24421cdcf542"
   },
   "outputs": [
    {
     "data": {
      "text/plain": [
       "([<matplotlib.axis.XTick at 0x7fd7899e4b10>,\n",
       "  <matplotlib.axis.XTick at 0x7fd7899f21d0>,\n",
       "  <matplotlib.axis.XTick at 0x7fd7899f1d50>,\n",
       "  <matplotlib.axis.XTick at 0x7fd7899b0750>,\n",
       "  <matplotlib.axis.XTick at 0x7fd7899b0c10>,\n",
       "  <matplotlib.axis.XTick at 0x7fd7899b80d0>,\n",
       "  <matplotlib.axis.XTick at 0x7fd7899b0490>,\n",
       "  <matplotlib.axis.XTick at 0x7fd7899b8210>,\n",
       "  <matplotlib.axis.XTick at 0x7fd7899b8d10>,\n",
       "  <matplotlib.axis.XTick at 0x7fd7899c0310>,\n",
       "  <matplotlib.axis.XTick at 0x7fd7899c0790>],\n",
       " <a list of 11 Text major ticklabel objects>)"
      ]
     },
     "execution_count": 10,
     "metadata": {},
     "output_type": "execute_result"
    },
    {
     "data": {
      "image/png": "[encoded data removed]",
      "text/plain": [
       "<Figure size 432x288 with 1 Axes>"
      ]
     },
     "metadata": {
      "needs_background": "light"
     },
     "output_type": "display_data"
    }
   ],
   "source": [
    "series = df[df['Year'] == 2017]['Salary']\n",
    "\n",
    "plt.hist(series, bins=10)\n",
    "plt.title(\"Гистограмма минимальной зарплаты в 2017 году\")\n",
    "plt.xlabel('$/час')\n",
    "plt.ylabel('# записей')\n",
    "\n",
    "bin_width = series.max() / 10\n",
    "x_range = [i*bin_width for i in range(11)]\n",
    "plt.xticks(x_range)"
   ]
  },
  {
   "cell_type": "markdown",
   "metadata": {
    "id": "kkfFHHJuKWlt"
   },
   "source": [
    "#### Круговая диаграмма\n",
    "\n",
    "Теперь давайте посмотрим на еще один тип графика, который используется для визуализации категориальных данных. Это круговая диаграмма, или **pie chart**, которая показывает, какую часть от 100% занимает та или иная категория."
   ]
  },
  {
   "cell_type": "markdown",
   "metadata": {
    "id": "hwu4LiWrKY6v"
   },
   "source": [
    "Построим график процентного соотношения числа прибрежных и неприбрежных штатов.\n",
    "\n",
    "Для этого в `matplotlib` есть функция `plt.pie`, которая принимает 2 массива данных - массив категорий и соответственный размер категорий. Давайте сначала подготовим данные.\n",
    "\n",
    "Для этого сначала добавим в основной датафрейм новый признак **IsCoastalStr**, который мы уже добавляли ранее, но в небольшой датафрейм. Этот признак нужен, чтобы в дальнейшем подписи на графике были в читаемом виде, а не просто 0 и 1.\n",
    "\n",
    "Теперь выберем из датасета только признаки **State** и **IsCoastalStr**, уберем дублирующиеся записи, сгруппируем по **IsCoastalStr** и посчитаем количество штатов в каждой группе.\n"
   ]
  },
  {
   "cell_type": "code",
   "execution_count": null,
   "metadata": {
    "colab": {
     "base_uri": "https://localhost:8080/"
    },
    "id": "tAjeB8sPDkcB",
    "outputId": "ea7380d4-7ec1-4e8f-dbff-ed4ed6c45e59"
   },
   "outputs": [
    {
     "data": {
      "text/plain": [
       "IsCoastalStr\n",
       "Coastal        19\n",
       "Not Coastal    36\n",
       "Name: State, dtype: int64"
      ]
     },
     "execution_count": 11,
     "metadata": {},
     "output_type": "execute_result"
    }
   ],
   "source": [
    "df['IsCoastalStr'] = np.where(df['IsCoastal'] == 1, 'Coastal', 'Not Coastal')\n",
    "\n",
    "serie3 = df[['State', 'IsCoastalStr']].drop_duplicates().groupby('IsCoastalStr')['State'].count()\n",
    "serie3"
   ]
  },
  {
   "cell_type": "markdown",
   "metadata": {
    "id": "Xdz74GuYMc9l"
   },
   "source": [
    "Теперь вызовем функцию `plt.pie()`, в которую передадим серию. Также в этой функции укажем параметр **labels**, в который передадим значения категорий, которыми нужно будет подписывать участки диаграммы. Это такой аналог оси Х в предыдущих типах графиков. Эти значения содержатся в индексах. И еще один параметр, **autopct**, он нужен, если мы хотим подписать доли графика процентами. Этот параметр принимает строку особого вида, называемую строкой форматирования."
   ]
  },
  {
   "cell_type": "code",
   "execution_count": null,
   "metadata": {
    "colab": {
     "base_uri": "https://localhost:8080/",
     "height": 264
    },
    "id": "5u5-4TCnMlqD",
    "outputId": "6f5071a1-24fb-427d-e982-702f6acac880"
   },
   "outputs": [
    {
     "data": {
      "image/png": "[encoded data removed]",
      "text/plain": [
       "<Figure size 432x288 with 1 Axes>"
      ]
     },
     "metadata": {},
     "output_type": "display_data"
    }
   ],
   "source": [
    "plt.pie(serie3, labels = serie3.index, autopct = '%1.0f%%')\n",
    "plt.title('Соотношения числа прибрежных и неприбрежных штатов');"
   ]
  },
  {
   "cell_type": "markdown",
   "metadata": {
    "id": "lOcLzjnQMk73"
   },
   "source": [
    "Мы можем вывести подписи долей с точностью, например, до 2 знаков после точки. Для этого нужно в параметре autopct заменить 0 после точки на 2 и перезапустить ячейку."
   ]
  },
  {
   "cell_type": "code",
   "execution_count": null,
   "metadata": {
    "colab": {
     "base_uri": "https://localhost:8080/",
     "height": 281
    },
    "id": "DzNQVbh1DkcC",
    "outputId": "d3552177-6544-44e1-e980-275fbbdb3da6"
   },
   "outputs": [
    {
     "data": {
      "text/plain": [
       "Text(0.5, 1.0, 'Соотношение количества прибрежных и неприбрежных штатов')"
      ]
     },
     "execution_count": 12,
     "metadata": {},
     "output_type": "execute_result"
    },
    {
     "data": {
      "image/png": "[encoded data removed]",
      "text/plain": [
       "<Figure size 432x288 with 1 Axes>"
      ]
     },
     "metadata": {},
     "output_type": "display_data"
    }
   ],
   "source": [
    "plt.pie(serie3, labels=serie3.index, autopct='%1.2f%%')\n",
    "plt.title(\"Соотношение количества прибрежных и неприбрежных штатов\")"
   ]
  },
  {
   "cell_type": "code",
   "execution_count": null,
   "metadata": {
    "id": "-EPTnUDIDkcC"
   },
   "outputs": [],
   "source": []
  }
 ],
 "metadata": {
  "colab": {
   "provenance": []
  },
  "kernelspec": {
   "display_name": "Python 3 (ipykernel)",
   "language": "python",
   "name": "python3"
  },
  "language_info": {
   "codemirror_mode": {
    "name": "ipython",
    "version": 3
   },
   "file_extension": ".py",
   "mimetype": "text/x-python",
   "name": "python",
   "nbconvert_exporter": "python",
   "pygments_lexer": "ipython3",
   "version": "3.10.9"
  }
 },
 "nbformat": 4,
 "nbformat_minor": 1
}
