{
 "cells": [
  {
   "cell_type": "markdown",
   "metadata": {
    "id": "j-x_mFI2OwC7"
   },
   "source": [
    "### Знакомство с matplotlib\n",
    "\n",
    "В этом уроке мы познакомимся с библиотекой `matplotlib` и научимся с ее помощью визуализировать данные из датафреймов `pandas`.\n",
    "\n",
    "`matplotlib` – это одна из самых известных и часто используемых Python-библиотек для создания визуализаций. \n",
    "\n",
    "Библиотека обладает несколькими важными особенностями, которые делают эту её такой популярной: \n",
    "\n",
    "*   `matplotlib` может визуализировать разные типы данных: стандартные списки языка `python`, структуры данных `numpy`, серии и датафреймы pandas и некоторые другие форматы данных. В этом модуле мы будем работать только с визуализацией серий и датафреймов `pandas`.\n",
    "*   `matplotlib` – это очень гибкая библиотека, которая предлагает большой выбор типов графиков, их настроек, стилей и так далее."
   ]
  },
  {
   "cell_type": "markdown",
   "metadata": {
    "id": "ggXDmEtZEsKB"
   },
   "source": [
    "#### Загрузка библиотек\n",
    "\n",
    "Давайте узнаем, как строить графики с помощью `matplotlib`. Для начала скачаем csv-файл по ссылке под видео урока. \n",
    "\n",
    "Для наглядной работой с библиотеками давайте загрузим их в ноутбук. Из библиотки `matplotlib` нам понадобиться только один модуль `pyplot`. "
   ]
  },
  {
   "cell_type": "code",
   "execution_count": 1,
   "metadata": {
    "id": "tC8F9uPpBWYJ"
   },
   "outputs": [],
   "source": [
    "import pandas as pd\n",
    "import matplotlib.pyplot as plt"
   ]
  },
  {
   "cell_type": "markdown",
   "metadata": {
    "id": "W4j0mDpLEznL"
   },
   "source": [
    "При импорте модулей и самих библиотек часто для удобства используют сокращенные наименования, алиясы *(лат. alias — иначе)*. Для `pandas` – это pd, для `pyplot` – `plt`."
   ]
  },
  {
   "cell_type": "markdown",
   "metadata": {
    "id": "oSi9G6hWE4XE"
   },
   "source": [
    "#### Загрузка данных\n",
    "\n",
    "Теперь давайте загрузим содержимое скачанного файла в датафрейм. Выведем первые строки датафрейма на экран и посмотрим, что в них содержится. \n"
   ]
  },
  {
   "cell_type": "code",
   "execution_count": null,
   "metadata": {
    "id": "KrvOOb86BWYc",
    "outputId": "ef48d915-f3f2-4fd4-d03e-654a6f88b7f7"
   },
   "outputs": [
    {
     "data": {
      "text/html": [
       "<div>\n",
       "<style scoped>\n",
       "    .dataframe tbody tr th:only-of-type {\n",
       "        vertical-align: middle;\n",
       "    }\n",
       "\n",
       "    .dataframe tbody tr th {\n",
       "        vertical-align: top;\n",
       "    }\n",
       "\n",
       "    .dataframe thead th {\n",
       "        text-align: right;\n",
       "    }\n",
       "</style>\n",
       "<table border=\"1\" class=\"dataframe\">\n",
       "  <thead>\n",
       "    <tr style=\"text-align: right;\">\n",
       "      <th></th>\n",
       "      <th>Year</th>\n",
       "      <th>State</th>\n",
       "      <th>Salary</th>\n",
       "    </tr>\n",
       "  </thead>\n",
       "  <tbody>\n",
       "    <tr>\n",
       "      <td>0</td>\n",
       "      <td>1968</td>\n",
       "      <td>Alabama</td>\n",
       "      <td>0.00000</td>\n",
       "    </tr>\n",
       "    <tr>\n",
       "      <td>1</td>\n",
       "      <td>1968</td>\n",
       "      <td>Alaska</td>\n",
       "      <td>2.10000</td>\n",
       "    </tr>\n",
       "    <tr>\n",
       "      <td>2</td>\n",
       "      <td>1968</td>\n",
       "      <td>Arizona</td>\n",
       "      <td>0.66000</td>\n",
       "    </tr>\n",
       "    <tr>\n",
       "      <td>3</td>\n",
       "      <td>1968</td>\n",
       "      <td>Arkansas</td>\n",
       "      <td>0.15625</td>\n",
       "    </tr>\n",
       "    <tr>\n",
       "      <td>4</td>\n",
       "      <td>1968</td>\n",
       "      <td>California</td>\n",
       "      <td>1.65000</td>\n",
       "    </tr>\n",
       "  </tbody>\n",
       "</table>\n",
       "</div>"
      ],
      "text/plain": [
       "   Year       State   Salary\n",
       "0  1968     Alabama  0.00000\n",
       "1  1968      Alaska  2.10000\n",
       "2  1968     Arizona  0.66000\n",
       "3  1968    Arkansas  0.15625\n",
       "4  1968  California  1.65000"
      ]
     },
     "execution_count": 2,
     "metadata": {
      "tags": []
     },
     "output_type": "execute_result"
    }
   ],
   "source": [
    "df = pd.read_csv('wage-data.csv')\n",
    "df.head()"
   ]
  },
  {
   "cell_type": "markdown",
   "metadata": {
    "id": "W1-DftNRFGKv"
   },
   "source": [
    "Итак, мы видим, что в датафрейме содержатся следующие признаки:\n",
    "1. Первый признак – год\n",
    "2. Следующий признак – название штата в США\n",
    "3. Третий признак – минимальная зарплата в этом штате в этом году. \n"
   ]
  },
  {
   "cell_type": "markdown",
   "metadata": {
    "id": "Gw05p_R-FHER"
   },
   "source": [
    "**Теперь давайте посмотрим, как со временем менялась средняя зарплата в штате Калифорния.** \n",
    "\n",
    "Для этого выберем из датафрейма только те записи, в которых признак **State** равен **California**, затем выберем только признак **Salary**. \n",
    "\n",
    "Запишем результат в переменную **series** и выведем ее на экран."
   ]
  },
  {
   "cell_type": "code",
   "execution_count": null,
   "metadata": {
    "id": "YIHfgU_7BWYf",
    "outputId": "71cea908-de26-4378-8f9a-5cd0975a1a53",
    "scrolled": true
   },
   "outputs": [
    {
     "data": {
      "text/plain": [
       "4        1.65\n",
       "59       1.65\n",
       "114      1.65\n",
       "169      1.65\n",
       "224      1.65\n",
       "279      1.65\n",
       "334      1.65\n",
       "389      1.65\n",
       "444      2.00\n",
       "499      2.00\n",
       "554      2.00\n",
       "609      2.90\n",
       "664      2.90\n",
       "719      3.35\n",
       "774      3.35\n",
       "829      3.35\n",
       "884      3.35\n",
       "939      3.35\n",
       "994      3.35\n",
       "1049     3.35\n",
       "1104     3.35\n",
       "1159     3.35\n",
       "1214     3.35\n",
       "1269     4.25\n",
       "1324     4.25\n",
       "1379     4.25\n",
       "1434     4.25\n",
       "1489     4.25\n",
       "1544     4.25\n",
       "1599     4.75\n",
       "1654     5.15\n",
       "1709     5.15\n",
       "1764     5.75\n",
       "1819     6.25\n",
       "1874     6.75\n",
       "1929     6.75\n",
       "1984     6.75\n",
       "2039     6.75\n",
       "2094     6.75\n",
       "2149     7.50\n",
       "2204     8.00\n",
       "2259     8.00\n",
       "2314     8.00\n",
       "2369     8.00\n",
       "2424     8.00\n",
       "2479     8.00\n",
       "2534     9.00\n",
       "2589     9.00\n",
       "2644    10.00\n",
       "2699    10.00\n",
       "Name: Salary, dtype: float64"
      ]
     },
     "execution_count": 3,
     "metadata": {
      "tags": []
     },
     "output_type": "execute_result"
    }
   ],
   "source": [
    "series = df[df['State'] == 'California']['Salary']\n",
    "series"
   ]
  },
  {
   "cell_type": "markdown",
   "metadata": {
    "id": "dV_A_wvKFQsH"
   },
   "source": [
    "Мы получили серию с минимальными зарплатами для штата Калифорния. Сами значения зарплат отображаются в правом столбце, а в левом – индекс этой серии.\n",
    "\n",
    "Чтобы получить **график минимальной зарплаты по годам**, нужно вызвать метод `plt.plot()` и передать в него серию `pandas`."
   ]
  },
  {
   "cell_type": "code",
   "execution_count": null,
   "metadata": {
    "id": "XMWPx6pEBWYp",
    "outputId": "7aa7a003-2137-4f58-d637-5b588ff2035f"
   },
   "outputs": [
    {
     "data": {
      "text/plain": [
       "[<matplotlib.lines.Line2D at 0x23f0da9f248>]"
      ]
     },
     "execution_count": 4,
     "metadata": {
      "tags": []
     },
     "output_type": "execute_result"
    },
    {
     "data": {
      "image/png": "[encoded data removed]",
      "text/plain": [
       "<Figure size 432x288 with 1 Axes>"
      ]
     },
     "metadata": {
      "needs_background": "light",
      "tags": []
     },
     "output_type": "display_data"
    }
   ],
   "source": [
    "plt.plot(series)"
   ]
  },
  {
   "cell_type": "markdown",
   "metadata": {
    "id": "zzHjBcmfFXpn"
   },
   "source": [
    "Мы получили график динамики минимальной зарплаты в Калифорнии, и мы видим, что она показывает устойчивый рост.\n",
    "\n",
    "Обратим внимание на горизонтальную ось. Мы видим на ней числ от 0 до 2500. Здравый смысл подсказывает нам, что по этой оси должен быть год, от 1968 до 2017. Почему так? \n",
    "\n",
    "Дело в том, что при визуализации серий `pandas` `matplotlib` в качестве горизонтальной оси использует значения индекса серии. Значит, чтобы на нашем графике на горизонтальной оси был отмечен год, а не просто порядковый номер записи в исходном датафрейме, нужно, чтобы индексом серии также был год. \n",
    "\n",
    "Давайте заново выполним фильтрацию данных и построение графика. Сначала из датафрейма выберем записи, соответствующие штату Калифорния. Теперь в отфильтрованном датафрейме сделаем индексом признак года, для этого вызовем метод **set_index()** и передадим в него название признака с годом. Теперь мы можем выбрать только признак **Salary**.\n",
    "\n"
   ]
  },
  {
   "cell_type": "code",
   "execution_count": null,
   "metadata": {
    "id": "8x8vJGouBWYp",
    "outputId": "af2bd6d0-18c5-498a-bf3f-2f3dca2de747",
    "scrolled": true
   },
   "outputs": [
    {
     "data": {
      "text/plain": [
       "Year\n",
       "1968     1.65\n",
       "1969     1.65\n",
       "1970     1.65\n",
       "1971     1.65\n",
       "1972     1.65\n",
       "1973     1.65\n",
       "1974     1.65\n",
       "1975     1.65\n",
       "1976     2.00\n",
       "1977     2.00\n",
       "1978     2.00\n",
       "1979     2.90\n",
       "1980     2.90\n",
       "1981     3.35\n",
       "1982     3.35\n",
       "1983     3.35\n",
       "1984     3.35\n",
       "1985     3.35\n",
       "1986     3.35\n",
       "1987     3.35\n",
       "1988     3.35\n",
       "1989     3.35\n",
       "1990     3.35\n",
       "1991     4.25\n",
       "1992     4.25\n",
       "1993     4.25\n",
       "1994     4.25\n",
       "1995     4.25\n",
       "1996     4.25\n",
       "1997     4.75\n",
       "1998     5.15\n",
       "1999     5.15\n",
       "2000     5.75\n",
       "2001     6.25\n",
       "2002     6.75\n",
       "2003     6.75\n",
       "2004     6.75\n",
       "2005     6.75\n",
       "2006     6.75\n",
       "2007     7.50\n",
       "2008     8.00\n",
       "2009     8.00\n",
       "2010     8.00\n",
       "2011     8.00\n",
       "2012     8.00\n",
       "2013     8.00\n",
       "2014     9.00\n",
       "2015     9.00\n",
       "2016    10.00\n",
       "2017    10.00\n",
       "Name: Salary, dtype: float64"
      ]
     },
     "execution_count": 5,
     "metadata": {
      "tags": []
     },
     "output_type": "execute_result"
    }
   ],
   "source": [
    "series1 = df[df['State'] == 'California'].set_index('Year')['Salary']\n",
    "series1"
   ]
  },
  {
   "cell_type": "markdown",
   "metadata": {
    "id": "iZ-Wj2C3FbmH"
   },
   "source": [
    "Видим, что теперь в качестве индекса используется год. Давайте построим график, для этого снова вызовем метод plt.plot() и передадим в него обновленные данные."
   ]
  },
  {
   "cell_type": "code",
   "execution_count": null,
   "metadata": {
    "id": "h9-9LkTpBWYq",
    "outputId": "68c62503-c714-4e00-9d15-4769eade4ac2"
   },
   "outputs": [
    {
     "data": {
      "text/plain": [
       "[<matplotlib.lines.Line2D at 0x23f0e24d5c8>]"
      ]
     },
     "execution_count": 6,
     "metadata": {
      "tags": []
     },
     "output_type": "execute_result"
    },
    {
     "data": {
      "image/png": "[encoded data removed]",
      "text/plain": [
       "<Figure size 432x288 with 1 Axes>"
      ]
     },
     "metadata": {
      "needs_background": "light",
      "tags": []
     },
     "output_type": "display_data"
    }
   ],
   "source": [
    "plt.plot(series1)"
   ]
  }
 ],
 "metadata": {
  "colab": {
   "provenance": []
  },
  "kernelspec": {
   "display_name": "Python 3 (ipykernel)",
   "language": "python",
   "name": "python3"
  },
  "language_info": {
   "codemirror_mode": {
    "name": "ipython",
    "version": 3
   },
   "file_extension": ".py",
   "mimetype": "text/x-python",
   "name": "python",
   "nbconvert_exporter": "python",
   "pygments_lexer": "ipython3",
   "version": "3.10.9"
  }
 },
 "nbformat": 4,
 "nbformat_minor": 1
}
