{
 "cells": [
  {
   "cell_type": "markdown",
   "metadata": {
    "id": "MjD_iGLdD7PR"
   },
   "source": [
    "# Продвинутая визуализация с matplotlib"
   ]
  },
  {
   "cell_type": "code",
   "execution_count": 1,
   "metadata": {
    "id": "cyCVy6TpD7PU"
   },
   "outputs": [],
   "source": [
    "import pandas as pd\n",
    "import matplotlib.pyplot as plt"
   ]
  },
  {
   "cell_type": "markdown",
   "metadata": {
    "id": "vK6WP4DLD7PV"
   },
   "source": [
    "## Урок 1. Жизненный цикл графика matplotlib\n",
    "\n",
    "### Практика\n",
    "\n",
    "#### Задание 1\n",
    "\n",
    "Используя объектно-ориентированный подход, постройте линейный график минимальной зарплаты в штате Аризона до 2000 года включительно. После этого отформатируйте график, сделав заголовок и подписи осей темно-синими."
   ]
  },
  {
   "cell_type": "code",
   "execution_count": 2,
   "metadata": {
    "id": "mKfFtAcrD7PV"
   },
   "outputs": [
    {
     "data": {
      "text/html": [
       "<div>\n",
       "<style scoped>\n",
       "    .dataframe tbody tr th:only-of-type {\n",
       "        vertical-align: middle;\n",
       "    }\n",
       "\n",
       "    .dataframe tbody tr th {\n",
       "        vertical-align: top;\n",
       "    }\n",
       "\n",
       "    .dataframe thead th {\n",
       "        text-align: right;\n",
       "    }\n",
       "</style>\n",
       "<table border=\"1\" class=\"dataframe\">\n",
       "  <thead>\n",
       "    <tr style=\"text-align: right;\">\n",
       "      <th></th>\n",
       "      <th>Year</th>\n",
       "      <th>State</th>\n",
       "      <th>Salary</th>\n",
       "      <th>IsCoastal</th>\n",
       "    </tr>\n",
       "  </thead>\n",
       "  <tbody>\n",
       "    <tr>\n",
       "      <th>0</th>\n",
       "      <td>1968</td>\n",
       "      <td>Alabama</td>\n",
       "      <td>0.00000</td>\n",
       "      <td>0</td>\n",
       "    </tr>\n",
       "    <tr>\n",
       "      <th>1</th>\n",
       "      <td>1968</td>\n",
       "      <td>Alaska</td>\n",
       "      <td>2.10000</td>\n",
       "      <td>1</td>\n",
       "    </tr>\n",
       "    <tr>\n",
       "      <th>2</th>\n",
       "      <td>1968</td>\n",
       "      <td>Arizona</td>\n",
       "      <td>0.66000</td>\n",
       "      <td>0</td>\n",
       "    </tr>\n",
       "    <tr>\n",
       "      <th>3</th>\n",
       "      <td>1968</td>\n",
       "      <td>Arkansas</td>\n",
       "      <td>0.15625</td>\n",
       "      <td>0</td>\n",
       "    </tr>\n",
       "    <tr>\n",
       "      <th>4</th>\n",
       "      <td>1968</td>\n",
       "      <td>California</td>\n",
       "      <td>1.65000</td>\n",
       "      <td>1</td>\n",
       "    </tr>\n",
       "    <tr>\n",
       "      <th>...</th>\n",
       "      <td>...</td>\n",
       "      <td>...</td>\n",
       "      <td>...</td>\n",
       "      <td>...</td>\n",
       "    </tr>\n",
       "    <tr>\n",
       "      <th>2745</th>\n",
       "      <td>2017</td>\n",
       "      <td>Virginia</td>\n",
       "      <td>7.25000</td>\n",
       "      <td>1</td>\n",
       "    </tr>\n",
       "    <tr>\n",
       "      <th>2746</th>\n",
       "      <td>2017</td>\n",
       "      <td>Washington</td>\n",
       "      <td>11.00000</td>\n",
       "      <td>1</td>\n",
       "    </tr>\n",
       "    <tr>\n",
       "      <th>2747</th>\n",
       "      <td>2017</td>\n",
       "      <td>West Virginia</td>\n",
       "      <td>8.75000</td>\n",
       "      <td>0</td>\n",
       "    </tr>\n",
       "    <tr>\n",
       "      <th>2748</th>\n",
       "      <td>2017</td>\n",
       "      <td>Wisconsin</td>\n",
       "      <td>7.25000</td>\n",
       "      <td>0</td>\n",
       "    </tr>\n",
       "    <tr>\n",
       "      <th>2749</th>\n",
       "      <td>2017</td>\n",
       "      <td>Wyoming</td>\n",
       "      <td>5.15000</td>\n",
       "      <td>0</td>\n",
       "    </tr>\n",
       "  </tbody>\n",
       "</table>\n",
       "<p>2750 rows × 4 columns</p>\n",
       "</div>"
      ],
      "text/plain": [
       "      Year          State    Salary  IsCoastal\n",
       "0     1968        Alabama   0.00000          0\n",
       "1     1968         Alaska   2.10000          1\n",
       "2     1968        Arizona   0.66000          0\n",
       "3     1968       Arkansas   0.15625          0\n",
       "4     1968     California   1.65000          1\n",
       "...    ...            ...       ...        ...\n",
       "2745  2017       Virginia   7.25000          1\n",
       "2746  2017     Washington  11.00000          1\n",
       "2747  2017  West Virginia   8.75000          0\n",
       "2748  2017      Wisconsin   7.25000          0\n",
       "2749  2017        Wyoming   5.15000          0\n",
       "\n",
       "[2750 rows x 4 columns]"
      ]
     },
     "execution_count": 2,
     "metadata": {},
     "output_type": "execute_result"
    }
   ],
   "source": [
    "df = pd.read_csv('wage-data-coast.csv')\n",
    "df"
   ]
  },
  {
   "cell_type": "code",
   "execution_count": 3,
   "metadata": {},
   "outputs": [
    {
     "data": {
      "image/png": "[encoded data removed]",
      "text/plain": [
       "<Figure size 640x480 with 1 Axes>"
      ]
     },
     "metadata": {},
     "output_type": "display_data"
    }
   ],
   "source": [
    "data = df[(df['State'] == 'Arizona') & (df['Year'] <= 2000)][['Year', 'Salary']]\n",
    "\n",
    "fig, ax = plt.subplots()\n",
    "ax.plot(data['Year'], data['Salary'])\n",
    "ax.set_title('Минимальная зарплата в штате Аризона по годам', color='navy')\n",
    "ax.set_xlabel('Год', color='navy')\n",
    "ax.set_ylabel('Минимальная зарплата, $/час', color='navy')\n",
    "\n",
    "plt.show()"
   ]
  }
 ],
 "metadata": {
  "colab": {
   "provenance": []
  },
  "kernelspec": {
   "display_name": "Python 3 (ipykernel)",
   "language": "python",
   "name": "python3"
  },
  "language_info": {
   "codemirror_mode": {
    "name": "ipython",
    "version": 3
   },
   "file_extension": ".py",
   "mimetype": "text/x-python",
   "name": "python",
   "nbconvert_exporter": "python",
   "pygments_lexer": "ipython3",
   "version": "3.10.9"
  }
 },
 "nbformat": 4,
 "nbformat_minor": 1
}
