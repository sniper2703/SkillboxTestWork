{
 "cells": [
  {
   "cell_type": "markdown",
   "metadata": {
    "id": "qPMoQYjwQite"
   },
   "source": [
    "# Продвинутая визуализация с matplotlib\n",
    "\n",
    "### 1. Жизненный цикл графика matplotlib\n",
    "\n",
    "В этом уроке вы узнаете, из каких этапов состоит построение любого графика matplotlib."
   ]
  },
  {
   "cell_type": "markdown",
   "metadata": {
    "id": "PG0NZRcyiZAy"
   },
   "source": [
    "Построение любой визуализации в `matplotlib` можно разделить на следующие этапы:\n",
    "1. Первый этап – инициализация графика. На этом этапе мы создаем “заготовку” будущего графика. Также на этом этапе мы можем задать размер итоговой визуализации или выбрать стиль визуализации.\n",
    "2. Следующий этап – добавление данных. На этом этапе мы добавляем к графику данные и выбираем тип итогового графика – гистограмма, линейный или более сложный график, совмещающий в себе несколько типов графиков.\n",
    "3. На третьем этапе мы настраиваем графики: добавляем необходимые подписи, форматируем оси и т.д. Если итоговая визуализация состоит из нескольких графиков, то этот этап повторяется для каждого графика\n",
    "4. И последний этап – вывод визуализации на экран или сохранение в файл.\n"
   ]
  },
  {
   "cell_type": "markdown",
   "metadata": {
    "id": "f_5RXdUUiizt"
   },
   "source": [
    "#### Загрузка библиотек"
   ]
  },
  {
   "cell_type": "code",
   "execution_count": 1,
   "metadata": {
    "id": "aOuDqUP6AIiu"
   },
   "outputs": [],
   "source": [
    "import pandas as pd\n",
    "import matplotlib.pyplot as plt"
   ]
  },
  {
   "cell_type": "markdown",
   "metadata": {
    "id": "w30x-7qaim_4"
   },
   "source": [
    "#### Загрузка данных"
   ]
  },
  {
   "cell_type": "code",
   "execution_count": 2,
   "metadata": {
    "colab": {
     "base_uri": "https://localhost:8080/",
     "height": 419
    },
    "id": "dXaq42yJAIiz",
    "outputId": "c6941dae-909e-4475-c448-98ac43158fac"
   },
   "outputs": [
    {
     "data": {
      "text/html": [
       "<div>\n",
       "<style scoped>\n",
       "    .dataframe tbody tr th:only-of-type {\n",
       "        vertical-align: middle;\n",
       "    }\n",
       "\n",
       "    .dataframe tbody tr th {\n",
       "        vertical-align: top;\n",
       "    }\n",
       "\n",
       "    .dataframe thead th {\n",
       "        text-align: right;\n",
       "    }\n",
       "</style>\n",
       "<table border=\"1\" class=\"dataframe\">\n",
       "  <thead>\n",
       "    <tr style=\"text-align: right;\">\n",
       "      <th></th>\n",
       "      <th>Year</th>\n",
       "      <th>State</th>\n",
       "      <th>Salary</th>\n",
       "      <th>IsCoastal</th>\n",
       "    </tr>\n",
       "  </thead>\n",
       "  <tbody>\n",
       "    <tr>\n",
       "      <th>0</th>\n",
       "      <td>1968</td>\n",
       "      <td>Alabama</td>\n",
       "      <td>0.00000</td>\n",
       "      <td>0</td>\n",
       "    </tr>\n",
       "    <tr>\n",
       "      <th>1</th>\n",
       "      <td>1968</td>\n",
       "      <td>Alaska</td>\n",
       "      <td>2.10000</td>\n",
       "      <td>1</td>\n",
       "    </tr>\n",
       "    <tr>\n",
       "      <th>2</th>\n",
       "      <td>1968</td>\n",
       "      <td>Arizona</td>\n",
       "      <td>0.66000</td>\n",
       "      <td>0</td>\n",
       "    </tr>\n",
       "    <tr>\n",
       "      <th>3</th>\n",
       "      <td>1968</td>\n",
       "      <td>Arkansas</td>\n",
       "      <td>0.15625</td>\n",
       "      <td>0</td>\n",
       "    </tr>\n",
       "    <tr>\n",
       "      <th>4</th>\n",
       "      <td>1968</td>\n",
       "      <td>California</td>\n",
       "      <td>1.65000</td>\n",
       "      <td>1</td>\n",
       "    </tr>\n",
       "    <tr>\n",
       "      <th>...</th>\n",
       "      <td>...</td>\n",
       "      <td>...</td>\n",
       "      <td>...</td>\n",
       "      <td>...</td>\n",
       "    </tr>\n",
       "    <tr>\n",
       "      <th>2745</th>\n",
       "      <td>2017</td>\n",
       "      <td>Virginia</td>\n",
       "      <td>7.25000</td>\n",
       "      <td>1</td>\n",
       "    </tr>\n",
       "    <tr>\n",
       "      <th>2746</th>\n",
       "      <td>2017</td>\n",
       "      <td>Washington</td>\n",
       "      <td>11.00000</td>\n",
       "      <td>1</td>\n",
       "    </tr>\n",
       "    <tr>\n",
       "      <th>2747</th>\n",
       "      <td>2017</td>\n",
       "      <td>West Virginia</td>\n",
       "      <td>8.75000</td>\n",
       "      <td>0</td>\n",
       "    </tr>\n",
       "    <tr>\n",
       "      <th>2748</th>\n",
       "      <td>2017</td>\n",
       "      <td>Wisconsin</td>\n",
       "      <td>7.25000</td>\n",
       "      <td>0</td>\n",
       "    </tr>\n",
       "    <tr>\n",
       "      <th>2749</th>\n",
       "      <td>2017</td>\n",
       "      <td>Wyoming</td>\n",
       "      <td>5.15000</td>\n",
       "      <td>0</td>\n",
       "    </tr>\n",
       "  </tbody>\n",
       "</table>\n",
       "<p>2750 rows × 4 columns</p>\n",
       "</div>"
      ],
      "text/plain": [
       "      Year          State    Salary  IsCoastal\n",
       "0     1968        Alabama   0.00000          0\n",
       "1     1968         Alaska   2.10000          1\n",
       "2     1968        Arizona   0.66000          0\n",
       "3     1968       Arkansas   0.15625          0\n",
       "4     1968     California   1.65000          1\n",
       "...    ...            ...       ...        ...\n",
       "2745  2017       Virginia   7.25000          1\n",
       "2746  2017     Washington  11.00000          1\n",
       "2747  2017  West Virginia   8.75000          0\n",
       "2748  2017      Wisconsin   7.25000          0\n",
       "2749  2017        Wyoming   5.15000          0\n",
       "\n",
       "[2750 rows x 4 columns]"
      ]
     },
     "execution_count": 2,
     "metadata": {},
     "output_type": "execute_result"
    }
   ],
   "source": [
    "df = pd.read_csv('wage-data-coast.csv')\n",
    "df"
   ]
  },
  {
   "cell_type": "markdown",
   "metadata": {
    "id": "dExIEicfiqA1"
   },
   "source": [
    "#### Построение графика\n",
    "\n",
    "Для инициализации графика нужно вызвать функцию `plt.subplots()`."
   ]
  },
  {
   "cell_type": "code",
   "execution_count": 3,
   "metadata": {
    "colab": {
     "base_uri": "https://localhost:8080/",
     "height": 303
    },
    "id": "uCyEW8Swizzk",
    "outputId": "f1f1c857-0f16-4f60-e1a1-db4b329f367b"
   },
   "outputs": [
    {
     "data": {
      "text/plain": [
       "(<Figure size 640x480 with 1 Axes>, <Axes: >)"
      ]
     },
     "execution_count": 3,
     "metadata": {},
     "output_type": "execute_result"
    },
    {
     "data": {
      "image/png": "[encoded data removed]",
      "text/plain": [
       "<Figure size 640x480 with 1 Axes>"
      ]
     },
     "metadata": {},
     "output_type": "display_data"
    }
   ],
   "source": [
    "plt.subplots()"
   ]
  },
  {
   "cell_type": "markdown",
   "metadata": {
    "id": "uSuvSRGlivAa"
   },
   "source": [
    "Итак, первое, что бросается в глаза, это пустой график. Так и задумано - мы инициализировали график, т.е. создали заготовку для него, но еще не добавили данные, поэтому на графике еще ничего нет. Давайте посмотрим на текст над графиком. Это то, что вернула нам функция `plt.subplots()`. Если посмотрим на документацию `matplotlib`, то увидим, что эта функция возвращает 2 объекта: объект класса **Figure** и один или несколько объектов класса **Axes**.\n",
    "\n",
    "Фактически, эти 2 класса, **Figure** и **Axes**, определяют всю визуализацию. Объект класса **Figure** можно сравнить с холстом, на котором размещаются один или несколько индивидуальных графиков. Эти графики, в свою очередь, являются экземплярами класса **Axes**. Именно класс **Axes** отвечает за внутренности графика: данные, тип, форматирование осей и т.д. Объект класса **Figure** отвечает за внешний вид итоговой визуализации.\n",
    "\n",
    "Итак, давайте обновим ячейку ноутбука, а именно - присвоим двум переменным результат функции `plt.subplots()`. \n"
   ]
  },
  {
   "cell_type": "code",
   "execution_count": null,
   "metadata": {
    "colab": {
     "base_uri": "https://localhost:8080/",
     "height": 269
    },
    "id": "JiHgns6ejCDn",
    "outputId": "ee76331d-6fa3-44e5-8199-ab0a94dc74f4"
   },
   "outputs": [
    {
     "data": {
      "image/png": "[encoded data removed]",
      "text/plain": [
       "<Figure size 432x288 with 1 Axes>"
      ]
     },
     "metadata": {
      "needs_background": "light"
     },
     "output_type": "display_data"
    }
   ],
   "source": [
    "fig, ax = plt.subplots()"
   ]
  },
  {
   "cell_type": "markdown",
   "metadata": {
    "id": "3UjkntGCjMxx"
   },
   "source": [
    "Следующий этап – выбор типа графика и добавление данных. Давайте построим линейный график, на котором покажем динамику минимальной зарплаты в штате Вашингтон по годам. Сначала подготовим данные. Для этого из датафрейма выберем записи для штата Вашингтон, затем выберем только столбцы **Year** и **Salary**.  \n",
    "\n",
    "Для того, чтобы построить линейный график, нужно вызвать метод `ax.plot()`. В этот метод передадим 2 массива – массив дат, который будет соответствовать оси Ох, и массив зарплат, величины которых будут отложены по оси Оу. \n"
   ]
  },
  {
   "cell_type": "code",
   "execution_count": null,
   "metadata": {
    "colab": {
     "base_uri": "https://localhost:8080/",
     "height": 265
    },
    "id": "I6jocfCwjYPO",
    "outputId": "5dd8dfea-5f3a-4d40-930b-25472d61fdae"
   },
   "outputs": [
    {
     "data": {
      "image/png": "[encoded data removed]",
      "text/plain": [
       "<Figure size 432x288 with 1 Axes>"
      ]
     },
     "metadata": {
      "needs_background": "light"
     },
     "output_type": "display_data"
    }
   ],
   "source": [
    "fig, ax = plt.subplots()\n",
    "\n",
    "data = df[df['State'] == 'Washington'][['Year', 'Salary']]\n",
    "\n",
    "ax.plot(data['Year'], data['Salary']);"
   ]
  },
  {
   "cell_type": "markdown",
   "metadata": {
    "id": "oleB5waPjSrU"
   },
   "source": [
    "Нам определенно не хватает заголовка и подписей осей. Для добавления атрибутов можно использовать методы-сеттеры. Например, давайте дадим графику осмысленный и понятный заголовок с помощью метода `ax.set_title()`.\n",
    "\n",
    "Подпишем оси и отформатируем отсечки на оси Ох. Давайте будем откладывать их не по круглым числам, как сейчас, а от минимального года до максимального с шагом в 10 лет. Мы уже умеем делать так с помощью функции `range`. Поскольку максимум не будет включен в итоговый список, добавим его отдельно. "
   ]
  },
  {
   "cell_type": "code",
   "execution_count": null,
   "metadata": {
    "colab": {
     "base_uri": "https://localhost:8080/",
     "height": 397
    },
    "id": "Qru2BhKBjgIg",
    "outputId": "7527867e-f9a4-4d9c-e9cd-44b14f1c7121"
   },
   "outputs": [
    {
     "data": {
      "text/plain": [
       "[<matplotlib.axis.XTick at 0x7fa26d673590>,\n",
       " <matplotlib.axis.XTick at 0x7fa26d5e6710>,\n",
       " <matplotlib.axis.XTick at 0x7fa26d5d7b50>,\n",
       " <matplotlib.axis.XTick at 0x7fa26d5a49d0>,\n",
       " <matplotlib.axis.XTick at 0x7fa26d5a4890>,\n",
       " <matplotlib.axis.XTick at 0x7fa26d5ac510>]"
      ]
     },
     "execution_count": 6,
     "metadata": {},
     "output_type": "execute_result"
    },
    {
     "data": {
      "image/png": "[encoded data removed]",
      "text/plain": [
       "<Figure size 432x288 with 1 Axes>"
      ]
     },
     "metadata": {
      "needs_background": "light"
     },
     "output_type": "display_data"
    }
   ],
   "source": [
    "fig, ax = plt.subplots()\n",
    "\n",
    "data = df[df['State'] == 'Washington'][['Year', 'Salary']]\n",
    "\n",
    "ax.plot(data['Year'], data['Salary'])\n",
    "ax.set_title('Минимальная зарплата в штате Вашингтон по годам')\n",
    "ax.set_xlabel('Год')\n",
    "ax.set_ylabel('Минимальная зарплата, $/час')\n",
    "ax.set_xticks(list(range(data['Year'].min(), data['Year'].max(),10))+[data['Year'].max()])"
   ]
  },
  {
   "cell_type": "markdown",
   "metadata": {
    "id": "o4ah8Z3ljiZM"
   },
   "source": [
    "На этом настройку графика пока закончим. Давайте перейдем к последнему этапу создания визуализации, а именно выводу на экран. Вообще, мы видим, что график уже выведен на экран, однако . Это достаточно сильно затрудняет чтение ноутбука, поэтому давайте последней командой вызовем функцию `plt.show()`, которая выводит график на экран и не возвращает дополнительной информации."
   ]
  },
  {
   "cell_type": "code",
   "execution_count": null,
   "metadata": {
    "colab": {
     "base_uri": "https://localhost:8080/",
     "height": 295
    },
    "id": "8a5TDaQ9jpdy",
    "outputId": "9c7007ba-f513-4d49-cc7d-37395349559a"
   },
   "outputs": [
    {
     "data": {
      "image/png": "[encoded data removed]",
      "text/plain": [
       "<Figure size 432x288 with 1 Axes>"
      ]
     },
     "metadata": {
      "needs_background": "light"
     },
     "output_type": "display_data"
    }
   ],
   "source": [
    "fig, ax = plt.subplots()\n",
    "\n",
    "data = df[df['State'] == 'Washington'][['Year', 'Salary']]\n",
    "\n",
    "ax.plot(data['Year'], data['Salary'])\n",
    "ax.set_title('Минимальная зарплата в штате Вашингтон по годам')\n",
    "ax.set_xlabel('Год')\n",
    "ax.set_ylabel('Минимальная зарплата, $/час')\n",
    "ax.set_xticks(list(range(data['Year'].min(), data['Year'].max(),10))+[data['Year'].max()])\n",
    "\n",
    "plt.show()"
   ]
  },
  {
   "cell_type": "markdown",
   "metadata": {
    "id": "NNYotP84jr7h"
   },
   "source": [
    "Мощь объектно-ориентированного подхода заключается в том, что он позволяет тонко контролировать все атрибуты графика. Например, давайте немного поднимем заголовок и сделаем его темно-синим. Для того, чтобы поднять или опустить заголовок, в метод **title** нужно передать параметр **pad**. Это отступ в пикселях от верхней границы графика до заголовка. По умолчанию этот параметр равен 6, давайте сделаем его 16. Чтобы задать цвет текста, нужно использовать параметр **color**, и в него передать цвет, например, **“navy”**, это темно-синий. \n"
   ]
  },
  {
   "cell_type": "code",
   "execution_count": null,
   "metadata": {
    "colab": {
     "base_uri": "https://localhost:8080/",
     "height": 305
    },
    "id": "xIMizN-cjxNE",
    "outputId": "ea54106a-c67f-43ba-9d94-d80d990689b9"
   },
   "outputs": [
    {
     "data": {
      "image/png": "[encoded data removed]",
      "text/plain": [
       "<Figure size 432x288 with 1 Axes>"
      ]
     },
     "metadata": {
      "needs_background": "light"
     },
     "output_type": "display_data"
    }
   ],
   "source": [
    "fig, ax = plt.subplots()\n",
    "\n",
    "data = df[df['State'] == 'Washington'][['Year', 'Salary']]\n",
    "\n",
    "ax.plot(data['Year'], data['Salary'])\n",
    "ax.set_title('Минимальная зарплата в штате Вашингтон по годам', pad = 16, color = 'navy')\n",
    "ax.set_xlabel('Год')\n",
    "ax.set_ylabel('Минимальная зарплата, $/час')\n",
    "ax.set_xticks(list(range(data['Year'].min(), data['Year'].max(),10))+[data['Year'].max()])\n",
    "\n",
    "plt.show()"
   ]
  },
  {
   "cell_type": "markdown",
   "metadata": {
    "id": "w0jHjtfkjwyX"
   },
   "source": [
    "Есть еще параметр **backgroundcolor**, который меняет задний фон текста. Давайте попробуем сделать у заголовка графика светло-серый фон."
   ]
  },
  {
   "cell_type": "code",
   "execution_count": null,
   "metadata": {
    "colab": {
     "base_uri": "https://localhost:8080/",
     "height": 305
    },
    "id": "MqGCVKTTj5OZ",
    "outputId": "76d3b055-5159-4fbc-8300-ea41130e6033"
   },
   "outputs": [
    {
     "data": {
      "image/png": "[encoded data removed]",
      "text/plain": [
       "<Figure size 432x288 with 1 Axes>"
      ]
     },
     "metadata": {
      "needs_background": "light"
     },
     "output_type": "display_data"
    }
   ],
   "source": [
    "fig, ax = plt.subplots()\n",
    "\n",
    "data = df[df['State'] == 'Washington'][['Year', 'Salary']]\n",
    "\n",
    "ax.plot(data['Year'], data['Salary'])\n",
    "ax.set_title('Минимальная зарплата в штате Вашингтон по годам', pad = 16, color = 'navy', backgroundcolor = 'lightgray')\n",
    "ax.set_xlabel('Год')\n",
    "ax.set_ylabel('Минимальная зарплата, $/час')\n",
    "ax.set_xticks(list(range(data['Year'].min(), data['Year'].max(),10))+[data['Year'].max()])\n",
    "\n",
    "plt.show()"
   ]
  },
  {
   "cell_type": "markdown",
   "metadata": {
    "id": "VkcjZ4Acj8Q_"
   },
   "source": [
    "Отсечки по оси Ох кажутся слишком редкими. Давайте будем отмечать года не с 10-летним промежутком, а, например, с 5-летним. Для этого просто изменим 10 на 5 в функции range."
   ]
  },
  {
   "cell_type": "code",
   "execution_count": null,
   "metadata": {
    "colab": {
     "base_uri": "https://localhost:8080/",
     "height": 305
    },
    "id": "B2oxa_qzAIi0",
    "outputId": "134d2388-c38e-4713-e5bf-e8ba453c9c9a"
   },
   "outputs": [
    {
     "data": {
      "image/png": "[encoded data removed]",
      "text/plain": [
       "<Figure size 432x288 with 1 Axes>"
      ]
     },
     "metadata": {
      "needs_background": "light"
     },
     "output_type": "display_data"
    }
   ],
   "source": [
    "fig, ax = plt.subplots()\n",
    "\n",
    "data = df[df['State'] == 'Washington'][['Year', 'Salary']]\n",
    "\n",
    "ax.plot(data['Year'], data['Salary'])\n",
    "ax.set_title('Минимальная зарплата в штате Вашингтон по годам', pad = 16, color = 'navy', backgroundcolor = 'lightgray')\n",
    "ax.set_xlabel('Год')\n",
    "ax.set_ylabel('Минимальная зарплата, $/час')\n",
    "ax.set_xticks(list(range(data['Year'].min(), data['Year'].max(),5))+[data['Year'].max()])\n",
    "\n",
    "plt.show()"
   ]
  },
  {
   "cell_type": "code",
   "execution_count": null,
   "metadata": {
    "id": "nLhdNJ02AIi0"
   },
   "outputs": [],
   "source": []
  }
 ],
 "metadata": {
  "colab": {
   "provenance": []
  },
  "kernelspec": {
   "display_name": "Python 3 (ipykernel)",
   "language": "python",
   "name": "python3"
  },
  "language_info": {
   "codemirror_mode": {
    "name": "ipython",
    "version": 3
   },
   "file_extension": ".py",
   "mimetype": "text/x-python",
   "name": "python",
   "nbconvert_exporter": "python",
   "pygments_lexer": "ipython3",
   "version": "3.10.9"
  }
 },
 "nbformat": 4,
 "nbformat_minor": 1
}
