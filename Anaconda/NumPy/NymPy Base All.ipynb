{
 "cells": [
  {
   "cell_type": "code",
   "execution_count": 1,
   "id": "a636f4e5",
   "metadata": {},
   "outputs": [],
   "source": [
    "import numpy as np"
   ]
  },
  {
   "cell_type": "code",
   "execution_count": 2,
   "id": "b4492006",
   "metadata": {},
   "outputs": [
    {
     "data": {
      "text/plain": [
       "4.123105625617661"
      ]
     },
     "execution_count": 2,
     "metadata": {},
     "output_type": "execute_result"
    }
   ],
   "source": [
    "np.sqrt(17)  # квадратный корень "
   ]
  },
  {
   "cell_type": "code",
   "execution_count": 3,
   "id": "6ee7ffa5",
   "metadata": {},
   "outputs": [
    {
     "data": {
      "text/plain": [
       "1.3862943611198906"
      ]
     },
     "execution_count": 3,
     "metadata": {},
     "output_type": "execute_result"
    }
   ],
   "source": [
    "np.log(4)  # натуральный логарифм"
   ]
  },
  {
   "cell_type": "code",
   "execution_count": 4,
   "id": "47afcb33",
   "metadata": {},
   "outputs": [
    {
     "data": {
      "text/plain": [
       "102.5"
      ]
     },
     "execution_count": 4,
     "metadata": {},
     "output_type": "execute_result"
    }
   ],
   "source": [
    "np.mean([20, 40, 30, 450, 45, 30])  # среднее"
   ]
  },
  {
   "cell_type": "code",
   "execution_count": 5,
   "id": "49d669f5",
   "metadata": {},
   "outputs": [
    {
     "data": {
      "text/plain": [
       "35.0"
      ]
     },
     "execution_count": 5,
     "metadata": {},
     "output_type": "execute_result"
    }
   ],
   "source": [
    "np.median([20, 40, 30, 450, 45, 30])  # медиана"
   ]
  },
  {
   "cell_type": "code",
   "execution_count": 6,
   "id": "260cf9ee",
   "metadata": {},
   "outputs": [
    {
     "data": {
      "text/plain": [
       "array([5, 4, 3, 5, 5, 4, 3, 4])"
      ]
     },
     "execution_count": 6,
     "metadata": {},
     "output_type": "execute_result"
    }
   ],
   "source": [
    "marks = np.array([5, 4, 3, 5, 5, 4, 3, 4]) \n",
    "marks"
   ]
  },
  {
   "cell_type": "code",
   "execution_count": 7,
   "id": "2e074efd",
   "metadata": {},
   "outputs": [
    {
     "data": {
      "text/plain": [
       "3"
      ]
     },
     "execution_count": 7,
     "metadata": {},
     "output_type": "execute_result"
    }
   ],
   "source": [
    "marks.min()"
   ]
  },
  {
   "cell_type": "code",
   "execution_count": 8,
   "id": "1ba60597",
   "metadata": {},
   "outputs": [
    {
     "data": {
      "text/plain": [
       "5"
      ]
     },
     "execution_count": 8,
     "metadata": {},
     "output_type": "execute_result"
    }
   ],
   "source": [
    "marks.max()"
   ]
  },
  {
   "cell_type": "code",
   "execution_count": 9,
   "id": "ccc254f9",
   "metadata": {},
   "outputs": [
    {
     "data": {
      "text/plain": [
       "4.125"
      ]
     },
     "execution_count": 9,
     "metadata": {},
     "output_type": "execute_result"
    }
   ],
   "source": [
    "marks.mean()"
   ]
  },
  {
   "cell_type": "code",
   "execution_count": 10,
   "id": "bd01ffdd",
   "metadata": {},
   "outputs": [
    {
     "data": {
      "text/plain": [
       "0"
      ]
     },
     "execution_count": 10,
     "metadata": {},
     "output_type": "execute_result"
    }
   ],
   "source": [
    "marks.argmax() # номер самой высокой оценки"
   ]
  },
  {
   "cell_type": "code",
   "execution_count": 11,
   "id": "83fa3c4c",
   "metadata": {},
   "outputs": [
    {
     "data": {
      "text/plain": [
       "2"
      ]
     },
     "execution_count": 11,
     "metadata": {},
     "output_type": "execute_result"
    }
   ],
   "source": [
    "marks.argmin() # номер самой низкой оценки"
   ]
  },
  {
   "cell_type": "code",
   "execution_count": 12,
   "id": "53e5978d",
   "metadata": {},
   "outputs": [],
   "source": [
    "grades = np.array([[3, 5, 5, 4, 3], \n",
    "          [3, 3, 4, 3, 3], \n",
    "          [5, 5, 5, 4, 5]])"
   ]
  },
  {
   "cell_type": "code",
   "execution_count": 13,
   "id": "f0774ab2",
   "metadata": {},
   "outputs": [
    {
     "data": {
      "text/plain": [
       "array([4. , 3.2, 4.8])"
      ]
     },
     "execution_count": 13,
     "metadata": {},
     "output_type": "execute_result"
    }
   ],
   "source": [
    "grades.mean(axis = 1) # по строкам, три оценки - одна для каждой группы"
   ]
  },
  {
   "cell_type": "code",
   "execution_count": 14,
   "id": "dd249bec",
   "metadata": {},
   "outputs": [
    {
     "data": {
      "text/plain": [
       "array([3.66666667, 4.33333333, 4.66666667, 3.66666667, 3.66666667])"
      ]
     },
     "execution_count": 14,
     "metadata": {},
     "output_type": "execute_result"
    }
   ],
   "source": [
    "grades.mean(axis = 0) # по столбцам, пять оценки - одна для каждой работы"
   ]
  },
  {
   "cell_type": "code",
   "execution_count": 15,
   "id": "51bdca2d",
   "metadata": {},
   "outputs": [
    {
     "data": {
      "text/plain": [
       "array([2, 5, 8])"
      ]
     },
     "execution_count": 15,
     "metadata": {},
     "output_type": "execute_result"
    }
   ],
   "source": [
    "np.arange(2, 9, 3) # создание массива с шагом 3"
   ]
  },
  {
   "cell_type": "code",
   "execution_count": 16,
   "id": "476aa245",
   "metadata": {},
   "outputs": [
    {
     "data": {
      "text/plain": [
       "array([[0., 0., 0.],\n",
       "       [0., 0., 0.],\n",
       "       [0., 0., 0.]])"
      ]
     },
     "execution_count": 16,
     "metadata": {},
     "output_type": "execute_result"
    }
   ],
   "source": [
    "Z = np.zeros((3, 3)) # размеры в виде кортежа - не теряйте еще одни круглые скобки\n",
    "Z"
   ]
  },
  {
   "cell_type": "code",
   "execution_count": 17,
   "id": "c27928f9",
   "metadata": {},
   "outputs": [
    {
     "data": {
      "text/plain": [
       "array([[1., 1.],\n",
       "       [1., 1.],\n",
       "       [1., 1.],\n",
       "       [1., 1.]])"
      ]
     },
     "execution_count": 17,
     "metadata": {},
     "output_type": "execute_result"
    }
   ],
   "source": [
    "O = np.ones((4, 2))\n",
    "O"
   ]
  },
  {
   "cell_type": "code",
   "execution_count": 18,
   "id": "3d9f7c2c",
   "metadata": {},
   "outputs": [
    {
     "data": {
      "text/plain": [
       "array([[1., 0., 0., 0., 0.],\n",
       "       [0., 1., 0., 0., 0.],\n",
       "       [0., 0., 1., 0., 0.],\n",
       "       [0., 0., 0., 1., 0.],\n",
       "       [0., 0., 0., 0., 1.]])"
      ]
     },
     "execution_count": 18,
     "metadata": {},
     "output_type": "execute_result"
    }
   ],
   "source": [
    "E = np.eye(5)\n",
    "E"
   ]
  }
 ],
 "metadata": {
  "kernelspec": {
   "display_name": "Python 3 (ipykernel)",
   "language": "python",
   "name": "python3"
  },
  "language_info": {
   "codemirror_mode": {
    "name": "ipython",
    "version": 3
   },
   "file_extension": ".py",
   "mimetype": "text/x-python",
   "name": "python",
   "nbconvert_exporter": "python",
   "pygments_lexer": "ipython3",
   "version": "3.10.9"
  }
 },
 "nbformat": 4,
 "nbformat_minor": 5
}
