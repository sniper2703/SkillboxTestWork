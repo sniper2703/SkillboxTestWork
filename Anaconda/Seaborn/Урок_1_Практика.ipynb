{
  "nbformat": 4,
  "nbformat_minor": 0,
  "metadata": {
    "kernelspec": {
      "display_name": "Python 3",
      "language": "python",
      "name": "python3"
    },
    "language_info": {
      "codemirror_mode": {
        "name": "ipython",
        "version": 3
      },
      "file_extension": ".py",
      "mimetype": "text/x-python",
      "name": "python",
      "nbconvert_exporter": "python",
      "pygments_lexer": "ipython3",
      "version": "3.7.4"
    },
    "colab": {
      "provenance": []
    }
  },
  "cells": [
    {
      "cell_type": "markdown",
      "metadata": {
        "id": "AT3PsmcTRkBF"
      },
      "source": [
        "# Визуализация с seaborn"
      ]
    },
    {
      "cell_type": "code",
      "metadata": {
        "id": "PUnXlHgZRkBJ"
      },
      "source": [
        "import pandas as pd\n",
        "import matplotlib.pyplot as plt\n",
        "import seaborn as sns\n",
        "plt.style.use('seaborn')"
      ],
      "execution_count": null,
      "outputs": []
    },
    {
      "cell_type": "markdown",
      "metadata": {
        "id": "7gwss5QiRkBK"
      },
      "source": [
        "## Урок 1. Что такое seaborn\n",
        "\n",
        "### Практика\n",
        "\n",
        "#### Задание 1\n",
        "\n",
        "С помощью seaborn постройте 2 гистограммы распределения минимальных зарплат в 2000 году. Первая гистограмма должна показывать распределение зарплат в прибрежных штатах, а вторая - во внутренних. Гистограммы нужно построить в одних координатных осях."
      ]
    },
    {
      "cell_type": "code",
      "metadata": {
        "id": "nNUrNMIBRkBK"
      },
      "source": [],
      "execution_count": null,
      "outputs": []
    }
  ]
}